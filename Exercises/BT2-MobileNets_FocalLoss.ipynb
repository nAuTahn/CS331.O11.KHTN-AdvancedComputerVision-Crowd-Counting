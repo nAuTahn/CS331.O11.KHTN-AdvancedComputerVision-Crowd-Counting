{
 "cells": [
  {
   "cell_type": "markdown",
   "metadata": {
    "id": "80xmAoAp-qEt"
   },
   "source": [
    "* Họ và tên: Nguyễn Tuấn Anh\n",
    "* MSSV: 21520142\n",
    "* Lớp: CS331.O11.KHTN\n",
    "* Bài tập: Baitap02\n",
    "* Ngày thực hiện: 05-10-2023"
   ]
  },
  {
   "cell_type": "code",
   "execution_count": null,
   "metadata": {
    "id": "W79abEJv-sgG"
   },
   "outputs": [],
   "source": [
    "import tensorflow as tf\n",
    "#import all necessary layers\n",
    "from tensorflow.keras.layers import Input, DepthwiseConv2D\n",
    "from tensorflow.keras.layers import Conv2D, BatchNormalization\n",
    "from tensorflow.keras.layers import ReLU, AvgPool2D, Flatten, Dense\n",
    "from tensorflow.keras import Model\n",
    "from torchvision import datasets"
   ]
  },
  {
   "cell_type": "code",
   "execution_count": null,
   "metadata": {
    "id": "liA1JCD3ueXJ"
   },
   "outputs": [],
   "source": [
    "from tqdm import tqdm\n",
    "import cv2\n",
    "import numpy as np\n",
    "from imutils import paths\n",
    "import os"
   ]
  },
  {
   "cell_type": "code",
   "execution_count": null,
   "metadata": {
    "colab": {
     "base_uri": "https://localhost:8080/"
    },
    "executionInfo": {
     "elapsed": 106697,
     "status": "ok",
     "timestamp": 1696518146538,
     "user": {
      "displayName": "Anh Nguyễn Tuấn",
      "userId": "07053102722635507370"
     },
     "user_tz": -420
    },
    "id": "JR9V7_iOxw9V",
    "outputId": "2022218e-0fc6-4f36-9758-1569f432d761"
   },
   "outputs": [
    {
     "name": "stderr",
     "output_type": "stream",
     "text": [
      "131740031it [00:00, 180943881.16it/s]\n"
     ]
    },
    {
     "name": "stdout",
     "output_type": "stream",
     "text": [
      "Extracting ./caltech101/101_ObjectCategories.tar.gz to ./caltech101\n"
     ]
    },
    {
     "name": "stderr",
     "output_type": "stream",
     "text": [
      "14028800it [00:00, 170681908.90it/s]\n"
     ]
    },
    {
     "name": "stdout",
     "output_type": "stream",
     "text": [
      "Extracting ./caltech101/Annotations.tar to ./caltech101\n"
     ]
    }
   ],
   "source": [
    "#download dataset\n",
    "path='./'\n",
    "dataset =  datasets.Caltech101(path, download=True)"
   ]
  },
  {
   "cell_type": "code",
   "execution_count": null,
   "metadata": {
    "colab": {
     "base_uri": "https://localhost:8080/"
    },
    "executionInfo": {
     "elapsed": 10930,
     "status": "ok",
     "timestamp": 1696518167531,
     "user": {
      "displayName": "Anh Nguyễn Tuấn",
      "userId": "07053102722635507370"
     },
     "user_tz": -420
    },
    "id": "tEcej_EUx4vw",
    "outputId": "34d83f79-2035-4ffc-88c3-cba6c8a0f5c4"
   },
   "outputs": [
    {
     "name": "stderr",
     "output_type": "stream",
     "text": [
      "100%|██████████| 9144/9144 [00:11<00:00, 827.14it/s]\n"
     ]
    }
   ],
   "source": [
    "#Extract Feature Histogram\n",
    "image_paths = list(paths.list_images('./'))\n",
    "\n",
    "data = []\n",
    "labels = []\n",
    "for img_path in tqdm(image_paths):\n",
    "    label = img_path.split(os.path.sep)[-2]\n",
    "    if label == \"BACKGROUND_Google\":\n",
    "        continue\n",
    "    img = cv2.imread(img_path)\n",
    "    #img = cv2.cvtColor(img, cv2.COLOR_BGR2GRAY)\n",
    "    img = cv2.resize(img, dsize=(224, 224))\n",
    "    #hist = cv2.calcHist([img], [0], None, [256], [0, 256])\n",
    "    #size = img.shape[0]*img.shape[1]\n",
    "    #hist = hist/size\n",
    "\n",
    "    data.append(img)\n",
    "    labels.append(label)\n",
    "\n",
    "data = np.array(data)\n",
    "labels = np.array(labels)"
   ]
  },
  {
   "cell_type": "code",
   "execution_count": null,
   "metadata": {
    "colab": {
     "base_uri": "https://localhost:8080/"
    },
    "executionInfo": {
     "elapsed": 493,
     "status": "ok",
     "timestamp": 1696518205969,
     "user": {
      "displayName": "Anh Nguyễn Tuấn",
      "userId": "07053102722635507370"
     },
     "user_tz": -420
    },
    "id": "FsHyp4MVy8gi",
    "outputId": "7b2e9959-f086-416b-9ec1-50a091aea6be"
   },
   "outputs": [
    {
     "data": {
      "text/plain": [
       "(224, 224, 3)"
      ]
     },
     "execution_count": 5,
     "metadata": {},
     "output_type": "execute_result"
    }
   ],
   "source": [
    "data[0].shape"
   ]
  },
  {
   "cell_type": "code",
   "execution_count": null,
   "metadata": {
    "id": "uRpIFJBZzIGC"
   },
   "outputs": [],
   "source": [
    "from sklearn.model_selection import train_test_split\n",
    "from sklearn.preprocessing import OneHotEncoder"
   ]
  },
  {
   "cell_type": "code",
   "execution_count": null,
   "metadata": {
    "colab": {
     "base_uri": "https://localhost:8080/"
    },
    "executionInfo": {
     "elapsed": 9,
     "status": "ok",
     "timestamp": 1696518215594,
     "user": {
      "displayName": "Anh Nguyễn Tuấn",
      "userId": "07053102722635507370"
     },
     "user_tz": -420
    },
    "id": "KMcVI5pYzKGk",
    "outputId": "c4e5198a-a8f8-4527-fb56-3eab84d91808"
   },
   "outputs": [
    {
     "name": "stdout",
     "output_type": "stream",
     "text": [
      "(8677, 101)\n"
     ]
    }
   ],
   "source": [
    "lb = OneHotEncoder()\n",
    "labels = lb.fit_transform(labels.reshape(-1, 1)).toarray()\n",
    "print(labels.shape)"
   ]
  },
  {
   "cell_type": "code",
   "execution_count": null,
   "metadata": {
    "colab": {
     "base_uri": "https://localhost:8080/"
    },
    "executionInfo": {
     "elapsed": 5,
     "status": "ok",
     "timestamp": 1696518220062,
     "user": {
      "displayName": "Anh Nguyễn Tuấn",
      "userId": "07053102722635507370"
     },
     "user_tz": -420
    },
    "id": "GSoBV3JYzN4M",
    "outputId": "5421d347-3564-4d98-db83-4af06b1b2e11"
   },
   "outputs": [
    {
     "name": "stdout",
     "output_type": "stream",
     "text": [
      "So luong tap train:  5206\n",
      "So luong tap val:  1735\n",
      "So luong tap test:  1736\n"
     ]
    }
   ],
   "source": [
    "#chia train, test, val\n",
    "train_ratio = 0.6\n",
    "validation_ratio = 0.2\n",
    "test_ratio = 0.2\n",
    "\n",
    "\n",
    "x_train, x_test, y_train, y_test = train_test_split(data, labels, test_size=1 - train_ratio)\n",
    "x_val, x_test, y_val, y_test = train_test_split(x_test, y_test, test_size=test_ratio/(test_ratio + validation_ratio))\n",
    "\n",
    "\n",
    "#x_train = x_train.reshape(len(x_train), 256)\n",
    "#x_val = x_val.reshape(len(x_val), 256)\n",
    "#x_test = x_test.reshape(len(x_test), 256)\n",
    "print('So luong tap train: ',len(x_train))\n",
    "print('So luong tap val: ',len(x_val))\n",
    "print('So luong tap test: ',len(x_test))"
   ]
  },
  {
   "cell_type": "code",
   "execution_count": null,
   "metadata": {
    "colab": {
     "base_uri": "https://localhost:8080/"
    },
    "executionInfo": {
     "elapsed": 736,
     "status": "ok",
     "timestamp": 1696518226955,
     "user": {
      "displayName": "Anh Nguyễn Tuấn",
      "userId": "07053102722635507370"
     },
     "user_tz": -420
    },
    "id": "wctZS09I3gdU",
    "outputId": "507ecc2a-d182-44e8-d1e3-4b32a6e1c735"
   },
   "outputs": [
    {
     "data": {
      "text/plain": [
       "array([[0., 0., 0., ..., 0., 0., 0.],\n",
       "       [0., 0., 0., ..., 0., 0., 0.],\n",
       "       [0., 0., 0., ..., 0., 0., 0.],\n",
       "       ...,\n",
       "       [0., 0., 0., ..., 0., 0., 1.],\n",
       "       [0., 0., 0., ..., 0., 0., 0.],\n",
       "       [0., 0., 0., ..., 0., 0., 0.]])"
      ]
     },
     "execution_count": 9,
     "metadata": {},
     "output_type": "execute_result"
    }
   ],
   "source": [
    "y_train"
   ]
  },
  {
   "cell_type": "code",
   "execution_count": null,
   "metadata": {
    "id": "P0Rkha5NrKNn"
   },
   "outputs": [],
   "source": [
    "def mobilnet_block (x, filters, strides):\n",
    "\n",
    "    x = DepthwiseConv2D(kernel_size = 3, strides = strides, padding = 'same', use_bias=False)(x)\n",
    "    x = BatchNormalization()(x)\n",
    "    x = ReLU()(x)\n",
    "\n",
    "    x = Conv2D(filters = filters, kernel_size = 1, strides = 1)(x)\n",
    "    x = BatchNormalization()(x)\n",
    "    x = ReLU()(x)\n",
    "\n",
    "    return x"
   ]
  },
  {
   "cell_type": "code",
   "execution_count": null,
   "metadata": {
    "id": "qnrPbFN_wK4Q"
   },
   "outputs": [],
   "source": [
    "# main part of the model\n",
    "def get_model():\n",
    "  input = Input(shape = (224,224,3))\n",
    "  x = Conv2D(filters = 32, kernel_size = 3, strides = 2, padding = 'same', use_bias=False)(input)\n",
    "  x = BatchNormalization()(x)\n",
    "  x = ReLU()(x)\n",
    "  x = mobilnet_block(x, filters = 64, strides = 1)\n",
    "  x = mobilnet_block(x, filters = 128, strides = 2)\n",
    "  x = mobilnet_block(x, filters = 128, strides = 1)\n",
    "  x = mobilnet_block(x, filters = 256, strides = 2)\n",
    "  x = mobilnet_block(x, filters = 256, strides = 1)\n",
    "  x = mobilnet_block(x, filters = 512, strides = 2)\n",
    "  for _ in range (5):\n",
    "      x = mobilnet_block(x, filters = 512, strides = 2)\n",
    "  x = mobilnet_block(x, filters = 1024, strides = 2)\n",
    "  x = mobilnet_block(x, filters = 1024, strides = 1)\n",
    "  x = AvgPool2D (pool_size = 7, strides = 1, data_format='channels_first', padding='same')(x)\n",
    "  x = Flatten()(x)\n",
    "  output = Dense (units = 101, activation = 'softmax')(x)\n",
    "  model = Model(inputs=input, outputs=output)\n",
    "  #model.summary()\n",
    "  return model"
   ]
  },
  {
   "cell_type": "code",
   "execution_count": null,
   "metadata": {
    "colab": {
     "base_uri": "https://localhost:8080/"
    },
    "executionInfo": {
     "elapsed": 4112,
     "status": "ok",
     "timestamp": 1696518269196,
     "user": {
      "displayName": "Anh Nguyễn Tuấn",
      "userId": "07053102722635507370"
     },
     "user_tz": -420
    },
    "id": "uZqvPZQ-Gq39",
    "outputId": "a3a85d4d-d688-48fa-a0f8-9c51771a69a1"
   },
   "outputs": [
    {
     "name": "stdout",
     "output_type": "stream",
     "text": [
      "Model: \"model\"\n",
      "_________________________________________________________________\n",
      " Layer (type)                Output Shape              Param #   \n",
      "=================================================================\n",
      " input_1 (InputLayer)        [(None, 224, 224, 3)]     0         \n",
      "                                                                 \n",
      " conv2d (Conv2D)             (None, 112, 112, 32)      864       \n",
      "                                                                 \n",
      " batch_normalization (Batch  (None, 112, 112, 32)      128       \n",
      " Normalization)                                                  \n",
      "                                                                 \n",
      " re_lu (ReLU)                (None, 112, 112, 32)      0         \n",
      "                                                                 \n",
      " depthwise_conv2d (Depthwis  (None, 112, 112, 32)      288       \n",
      " eConv2D)                                                        \n",
      "                                                                 \n",
      " batch_normalization_1 (Bat  (None, 112, 112, 32)      128       \n",
      " chNormalization)                                                \n",
      "                                                                 \n",
      " re_lu_1 (ReLU)              (None, 112, 112, 32)      0         \n",
      "                                                                 \n",
      " conv2d_1 (Conv2D)           (None, 112, 112, 64)      2112      \n",
      "                                                                 \n",
      " batch_normalization_2 (Bat  (None, 112, 112, 64)      256       \n",
      " chNormalization)                                                \n",
      "                                                                 \n",
      " re_lu_2 (ReLU)              (None, 112, 112, 64)      0         \n",
      "                                                                 \n",
      " depthwise_conv2d_1 (Depthw  (None, 56, 56, 64)        576       \n",
      " iseConv2D)                                                      \n",
      "                                                                 \n",
      " batch_normalization_3 (Bat  (None, 56, 56, 64)        256       \n",
      " chNormalization)                                                \n",
      "                                                                 \n",
      " re_lu_3 (ReLU)              (None, 56, 56, 64)        0         \n",
      "                                                                 \n",
      " conv2d_2 (Conv2D)           (None, 56, 56, 128)       8320      \n",
      "                                                                 \n",
      " batch_normalization_4 (Bat  (None, 56, 56, 128)       512       \n",
      " chNormalization)                                                \n",
      "                                                                 \n",
      " re_lu_4 (ReLU)              (None, 56, 56, 128)       0         \n",
      "                                                                 \n",
      " depthwise_conv2d_2 (Depthw  (None, 56, 56, 128)       1152      \n",
      " iseConv2D)                                                      \n",
      "                                                                 \n",
      " batch_normalization_5 (Bat  (None, 56, 56, 128)       512       \n",
      " chNormalization)                                                \n",
      "                                                                 \n",
      " re_lu_5 (ReLU)              (None, 56, 56, 128)       0         \n",
      "                                                                 \n",
      " conv2d_3 (Conv2D)           (None, 56, 56, 128)       16512     \n",
      "                                                                 \n",
      " batch_normalization_6 (Bat  (None, 56, 56, 128)       512       \n",
      " chNormalization)                                                \n",
      "                                                                 \n",
      " re_lu_6 (ReLU)              (None, 56, 56, 128)       0         \n",
      "                                                                 \n",
      " depthwise_conv2d_3 (Depthw  (None, 28, 28, 128)       1152      \n",
      " iseConv2D)                                                      \n",
      "                                                                 \n",
      " batch_normalization_7 (Bat  (None, 28, 28, 128)       512       \n",
      " chNormalization)                                                \n",
      "                                                                 \n",
      " re_lu_7 (ReLU)              (None, 28, 28, 128)       0         \n",
      "                                                                 \n",
      " conv2d_4 (Conv2D)           (None, 28, 28, 256)       33024     \n",
      "                                                                 \n",
      " batch_normalization_8 (Bat  (None, 28, 28, 256)       1024      \n",
      " chNormalization)                                                \n",
      "                                                                 \n",
      " re_lu_8 (ReLU)              (None, 28, 28, 256)       0         \n",
      "                                                                 \n",
      " depthwise_conv2d_4 (Depthw  (None, 28, 28, 256)       2304      \n",
      " iseConv2D)                                                      \n",
      "                                                                 \n",
      " batch_normalization_9 (Bat  (None, 28, 28, 256)       1024      \n",
      " chNormalization)                                                \n",
      "                                                                 \n",
      " re_lu_9 (ReLU)              (None, 28, 28, 256)       0         \n",
      "                                                                 \n",
      " conv2d_5 (Conv2D)           (None, 28, 28, 256)       65792     \n",
      "                                                                 \n",
      " batch_normalization_10 (Ba  (None, 28, 28, 256)       1024      \n",
      " tchNormalization)                                               \n",
      "                                                                 \n",
      " re_lu_10 (ReLU)             (None, 28, 28, 256)       0         \n",
      "                                                                 \n",
      " depthwise_conv2d_5 (Depthw  (None, 14, 14, 256)       2304      \n",
      " iseConv2D)                                                      \n",
      "                                                                 \n",
      " batch_normalization_11 (Ba  (None, 14, 14, 256)       1024      \n",
      " tchNormalization)                                               \n",
      "                                                                 \n",
      " re_lu_11 (ReLU)             (None, 14, 14, 256)       0         \n",
      "                                                                 \n",
      " conv2d_6 (Conv2D)           (None, 14, 14, 512)       131584    \n",
      "                                                                 \n",
      " batch_normalization_12 (Ba  (None, 14, 14, 512)       2048      \n",
      " tchNormalization)                                               \n",
      "                                                                 \n",
      " re_lu_12 (ReLU)             (None, 14, 14, 512)       0         \n",
      "                                                                 \n",
      " depthwise_conv2d_6 (Depthw  (None, 7, 7, 512)         4608      \n",
      " iseConv2D)                                                      \n",
      "                                                                 \n",
      " batch_normalization_13 (Ba  (None, 7, 7, 512)         2048      \n",
      " tchNormalization)                                               \n",
      "                                                                 \n",
      " re_lu_13 (ReLU)             (None, 7, 7, 512)         0         \n",
      "                                                                 \n",
      " conv2d_7 (Conv2D)           (None, 7, 7, 512)         262656    \n",
      "                                                                 \n",
      " batch_normalization_14 (Ba  (None, 7, 7, 512)         2048      \n",
      " tchNormalization)                                               \n",
      "                                                                 \n",
      " re_lu_14 (ReLU)             (None, 7, 7, 512)         0         \n",
      "                                                                 \n",
      " depthwise_conv2d_7 (Depthw  (None, 4, 4, 512)         4608      \n",
      " iseConv2D)                                                      \n",
      "                                                                 \n",
      " batch_normalization_15 (Ba  (None, 4, 4, 512)         2048      \n",
      " tchNormalization)                                               \n",
      "                                                                 \n",
      " re_lu_15 (ReLU)             (None, 4, 4, 512)         0         \n",
      "                                                                 \n",
      " conv2d_8 (Conv2D)           (None, 4, 4, 512)         262656    \n",
      "                                                                 \n",
      " batch_normalization_16 (Ba  (None, 4, 4, 512)         2048      \n",
      " tchNormalization)                                               \n",
      "                                                                 \n",
      " re_lu_16 (ReLU)             (None, 4, 4, 512)         0         \n",
      "                                                                 \n",
      " depthwise_conv2d_8 (Depthw  (None, 2, 2, 512)         4608      \n",
      " iseConv2D)                                                      \n",
      "                                                                 \n",
      " batch_normalization_17 (Ba  (None, 2, 2, 512)         2048      \n",
      " tchNormalization)                                               \n",
      "                                                                 \n",
      " re_lu_17 (ReLU)             (None, 2, 2, 512)         0         \n",
      "                                                                 \n",
      " conv2d_9 (Conv2D)           (None, 2, 2, 512)         262656    \n",
      "                                                                 \n",
      " batch_normalization_18 (Ba  (None, 2, 2, 512)         2048      \n",
      " tchNormalization)                                               \n",
      "                                                                 \n",
      " re_lu_18 (ReLU)             (None, 2, 2, 512)         0         \n",
      "                                                                 \n",
      " depthwise_conv2d_9 (Depthw  (None, 1, 1, 512)         4608      \n",
      " iseConv2D)                                                      \n",
      "                                                                 \n",
      " batch_normalization_19 (Ba  (None, 1, 1, 512)         2048      \n",
      " tchNormalization)                                               \n",
      "                                                                 \n",
      " re_lu_19 (ReLU)             (None, 1, 1, 512)         0         \n",
      "                                                                 \n",
      " conv2d_10 (Conv2D)          (None, 1, 1, 512)         262656    \n",
      "                                                                 \n",
      " batch_normalization_20 (Ba  (None, 1, 1, 512)         2048      \n",
      " tchNormalization)                                               \n",
      "                                                                 \n",
      " re_lu_20 (ReLU)             (None, 1, 1, 512)         0         \n",
      "                                                                 \n",
      " depthwise_conv2d_10 (Depth  (None, 1, 1, 512)         4608      \n",
      " wiseConv2D)                                                     \n",
      "                                                                 \n",
      " batch_normalization_21 (Ba  (None, 1, 1, 512)         2048      \n",
      " tchNormalization)                                               \n",
      "                                                                 \n",
      " re_lu_21 (ReLU)             (None, 1, 1, 512)         0         \n",
      "                                                                 \n",
      " conv2d_11 (Conv2D)          (None, 1, 1, 512)         262656    \n",
      "                                                                 \n",
      " batch_normalization_22 (Ba  (None, 1, 1, 512)         2048      \n",
      " tchNormalization)                                               \n",
      "                                                                 \n",
      " re_lu_22 (ReLU)             (None, 1, 1, 512)         0         \n",
      "                                                                 \n",
      " depthwise_conv2d_11 (Depth  (None, 1, 1, 512)         4608      \n",
      " wiseConv2D)                                                     \n",
      "                                                                 \n",
      " batch_normalization_23 (Ba  (None, 1, 1, 512)         2048      \n",
      " tchNormalization)                                               \n",
      "                                                                 \n",
      " re_lu_23 (ReLU)             (None, 1, 1, 512)         0         \n",
      "                                                                 \n",
      " conv2d_12 (Conv2D)          (None, 1, 1, 1024)        525312    \n",
      "                                                                 \n",
      " batch_normalization_24 (Ba  (None, 1, 1, 1024)        4096      \n",
      " tchNormalization)                                               \n",
      "                                                                 \n",
      " re_lu_24 (ReLU)             (None, 1, 1, 1024)        0         \n",
      "                                                                 \n",
      " depthwise_conv2d_12 (Depth  (None, 1, 1, 1024)        9216      \n",
      " wiseConv2D)                                                     \n",
      "                                                                 \n",
      " batch_normalization_25 (Ba  (None, 1, 1, 1024)        4096      \n",
      " tchNormalization)                                               \n",
      "                                                                 \n",
      " re_lu_25 (ReLU)             (None, 1, 1, 1024)        0         \n",
      "                                                                 \n",
      " conv2d_13 (Conv2D)          (None, 1, 1, 1024)        1049600   \n",
      "                                                                 \n",
      " batch_normalization_26 (Ba  (None, 1, 1, 1024)        4096      \n",
      " tchNormalization)                                               \n",
      "                                                                 \n",
      " re_lu_26 (ReLU)             (None, 1, 1, 1024)        0         \n",
      "                                                                 \n",
      " average_pooling2d (Average  (None, 1, 1, 1024)        0         \n",
      " Pooling2D)                                                      \n",
      "                                                                 \n",
      " flatten (Flatten)           (None, 1024)              0         \n",
      "                                                                 \n",
      " dense (Dense)               (None, 101)               103525    \n",
      "                                                                 \n",
      "=================================================================\n",
      "Total params: 3338341 (12.73 MB)\n",
      "Trainable params: 3316453 (12.65 MB)\n",
      "Non-trainable params: 21888 (85.50 KB)\n",
      "_________________________________________________________________\n"
     ]
    }
   ],
   "source": [
    "model = get_model()\n",
    "model.summary()"
   ]
  },
  {
   "cell_type": "markdown",
   "metadata": {
    "id": "uIXZ9abE-373"
   },
   "source": [
    "# Yêu cầu 1: Với learning_rate = 0.0001, số lần lặp (epoch) =10\n",
    "## Hãy xác định kết quả độ đo Accuracy trên các tập train-val-test cho các trường hợp sau\n",
    "* cross entropy loss\n",
    "* Focal Loss"
   ]
  },
  {
   "cell_type": "code",
   "execution_count": null,
   "metadata": {
    "id": "cRJwMiWsrSwL"
   },
   "outputs": [],
   "source": [
    "# Adam + learning_rate=1e-4, cross entropy, accuracy\n",
    "model_1 = get_model()\n",
    "optimizer = tf.keras.optimizers.Adam(learning_rate=1e-4)\n",
    "model_1.compile(optimizer=optimizer, loss='categorical_crossentropy', metrics=['accuracy'])"
   ]
  },
  {
   "cell_type": "code",
   "execution_count": null,
   "metadata": {
    "colab": {
     "base_uri": "https://localhost:8080/"
    },
    "executionInfo": {
     "elapsed": 210401,
     "status": "ok",
     "timestamp": 1696518533267,
     "user": {
      "displayName": "Anh Nguyễn Tuấn",
      "userId": "07053102722635507370"
     },
     "user_tz": -420
    },
    "id": "YIfgWRo61hzb",
    "outputId": "69fee563-014f-43b0-82ae-521b38e19bf9"
   },
   "outputs": [
    {
     "name": "stdout",
     "output_type": "stream",
     "text": [
      "Epoch 1/10\n",
      "163/163 [==============================] - 44s 102ms/step - loss: 4.2596 - accuracy: 0.1214 - val_loss: 4.4640 - val_accuracy: 0.1020\n",
      "Epoch 2/10\n",
      "163/163 [==============================] - 15s 90ms/step - loss: 3.9675 - accuracy: 0.1777 - val_loss: 4.3362 - val_accuracy: 0.1020\n",
      "Epoch 3/10\n",
      "163/163 [==============================] - 15s 90ms/step - loss: 3.8123 - accuracy: 0.2126 - val_loss: 4.3246 - val_accuracy: 0.0455\n",
      "Epoch 4/10\n",
      "163/163 [==============================] - 15s 90ms/step - loss: 3.6991 - accuracy: 0.2222 - val_loss: 4.4319 - val_accuracy: 0.0599\n",
      "Epoch 5/10\n",
      "163/163 [==============================] - 15s 90ms/step - loss: 3.5848 - accuracy: 0.2370 - val_loss: 3.9008 - val_accuracy: 0.2110\n",
      "Epoch 6/10\n",
      "163/163 [==============================] - 15s 91ms/step - loss: 3.4789 - accuracy: 0.2587 - val_loss: 3.4658 - val_accuracy: 0.2663\n",
      "Epoch 7/10\n",
      "163/163 [==============================] - 15s 91ms/step - loss: 3.3548 - accuracy: 0.2818 - val_loss: 3.3130 - val_accuracy: 0.2876\n",
      "Epoch 8/10\n",
      "163/163 [==============================] - 15s 90ms/step - loss: 3.2287 - accuracy: 0.3056 - val_loss: 3.2686 - val_accuracy: 0.3153\n",
      "Epoch 9/10\n",
      "163/163 [==============================] - 15s 90ms/step - loss: 3.1309 - accuracy: 0.3177 - val_loss: 3.1957 - val_accuracy: 0.3199\n",
      "Epoch 10/10\n",
      "163/163 [==============================] - 15s 89ms/step - loss: 3.0065 - accuracy: 0.3427 - val_loss: 3.0869 - val_accuracy: 0.3452\n"
     ]
    },
    {
     "data": {
      "text/plain": [
       "<keras.src.callbacks.History at 0x7f0c24129b70>"
      ]
     },
     "execution_count": 14,
     "metadata": {},
     "output_type": "execute_result"
    }
   ],
   "source": [
    "model_1.fit(x=x_train, y=y_train, epochs=10, validation_data=(x_val, y_val))"
   ]
  },
  {
   "cell_type": "code",
   "execution_count": null,
   "metadata": {
    "colab": {
     "base_uri": "https://localhost:8080/"
    },
    "executionInfo": {
     "elapsed": 2738,
     "status": "ok",
     "timestamp": 1696518550392,
     "user": {
      "displayName": "Anh Nguyễn Tuấn",
      "userId": "07053102722635507370"
     },
     "user_tz": -420
    },
    "id": "8LdUX6n7C-6w",
    "outputId": "b75bc934-bfc2-4399-f336-eecdcbd9e39b"
   },
   "outputs": [
    {
     "name": "stdout",
     "output_type": "stream",
     "text": [
      "55/55 [==============================] - 2s 27ms/step - loss: 3.1579 - accuracy: 0.3353\n"
     ]
    },
    {
     "data": {
      "text/plain": [
       "[3.1579484939575195, 0.33525344729423523]"
      ]
     },
     "execution_count": 15,
     "metadata": {},
     "output_type": "execute_result"
    }
   ],
   "source": [
    "model_1.evaluate(x_test, y_test)"
   ]
  },
  {
   "cell_type": "code",
   "execution_count": null,
   "metadata": {
    "id": "2Ziv9nC5_mxH"
   },
   "outputs": [],
   "source": [
    "# Sgd + learning_rate=1e-4, cross entropy, accuracy\n",
    "model_2 = get_model()\n",
    "optimizer = tf.keras.optimizers.SGD(learning_rate=1e-4)\n",
    "model_2.compile(optimizer=optimizer, loss='categorical_crossentropy', metrics=['accuracy'])"
   ]
  },
  {
   "cell_type": "code",
   "execution_count": null,
   "metadata": {
    "colab": {
     "base_uri": "https://localhost:8080/"
    },
    "executionInfo": {
     "elapsed": 208579,
     "status": "ok",
     "timestamp": 1696518782776,
     "user": {
      "displayName": "Anh Nguyễn Tuấn",
      "userId": "07053102722635507370"
     },
     "user_tz": -420
    },
    "id": "Y5ZNF2dC_vim",
    "outputId": "7ff40f13-0b04-4acc-c184-fb3fc9b7793c"
   },
   "outputs": [
    {
     "name": "stdout",
     "output_type": "stream",
     "text": [
      "Epoch 1/10\n",
      "163/163 [==============================] - 23s 95ms/step - loss: 4.8348 - accuracy: 0.0071 - val_loss: 4.6314 - val_accuracy: 0.0040\n",
      "Epoch 2/10\n",
      "163/163 [==============================] - 14s 89ms/step - loss: 4.7824 - accuracy: 0.0060 - val_loss: 4.6454 - val_accuracy: 0.0040\n",
      "Epoch 3/10\n",
      "163/163 [==============================] - 15s 90ms/step - loss: 4.7335 - accuracy: 0.0102 - val_loss: 4.6426 - val_accuracy: 0.0040\n",
      "Epoch 4/10\n",
      "163/163 [==============================] - 15s 90ms/step - loss: 4.6908 - accuracy: 0.0129 - val_loss: 4.6068 - val_accuracy: 0.0052\n",
      "Epoch 5/10\n",
      "163/163 [==============================] - 15s 90ms/step - loss: 4.6505 - accuracy: 0.0175 - val_loss: 4.5832 - val_accuracy: 0.0352\n",
      "Epoch 6/10\n",
      "163/163 [==============================] - 15s 89ms/step - loss: 4.6119 - accuracy: 0.0263 - val_loss: 4.5922 - val_accuracy: 0.0432\n",
      "Epoch 7/10\n",
      "163/163 [==============================] - 15s 90ms/step - loss: 4.5719 - accuracy: 0.0465 - val_loss: 5.1818 - val_accuracy: 0.0473\n",
      "Epoch 8/10\n",
      "163/163 [==============================] - 15s 89ms/step - loss: 4.5481 - accuracy: 0.0605 - val_loss: 4.6016 - val_accuracy: 0.0674\n",
      "Epoch 9/10\n",
      "163/163 [==============================] - 15s 90ms/step - loss: 4.5140 - accuracy: 0.0713 - val_loss: 4.5583 - val_accuracy: 0.0951\n",
      "Epoch 10/10\n",
      "163/163 [==============================] - 15s 90ms/step - loss: 4.4834 - accuracy: 0.0878 - val_loss: 4.5066 - val_accuracy: 0.1037\n"
     ]
    },
    {
     "data": {
      "text/plain": [
       "<keras.src.callbacks.History at 0x7f0c084128c0>"
      ]
     },
     "execution_count": 17,
     "metadata": {},
     "output_type": "execute_result"
    }
   ],
   "source": [
    "model_2.fit(x_train, y_train, epochs=10, validation_data=(x_val, y_val))"
   ]
  },
  {
   "cell_type": "code",
   "execution_count": null,
   "metadata": {
    "colab": {
     "base_uri": "https://localhost:8080/"
    },
    "executionInfo": {
     "elapsed": 2486,
     "status": "ok",
     "timestamp": 1696518793341,
     "user": {
      "displayName": "Anh Nguyễn Tuấn",
      "userId": "07053102722635507370"
     },
     "user_tz": -420
    },
    "id": "6Ut6b9G3DJy3",
    "outputId": "2331eb7a-56cd-4dd5-d8eb-50f98892caf6"
   },
   "outputs": [
    {
     "name": "stdout",
     "output_type": "stream",
     "text": [
      "55/55 [==============================] - 1s 23ms/step - loss: 4.4685 - accuracy: 0.1048\n"
     ]
    },
    {
     "data": {
      "text/plain": [
       "[4.468520641326904, 0.10483870655298233]"
      ]
     },
     "execution_count": 18,
     "metadata": {},
     "output_type": "execute_result"
    }
   ],
   "source": [
    "model_2.evaluate(x_test, y_test)"
   ]
  },
  {
   "cell_type": "code",
   "execution_count": null,
   "metadata": {
    "id": "-O7N8dKzC_Jy"
   },
   "outputs": [],
   "source": [
    "def focal_loss(y_true, y_pred, alpha=0.25, gamma=2.0):\n",
    "    # Tính cross-entropy loss\n",
    "    ce_loss = -tf.reduce_sum(y_true * tf.math.log(y_pred), axis=-1)\n",
    "\n",
    "    # Tính focal loss\n",
    "    focal_loss = alpha * tf.math.pow(1 - y_pred, gamma) * ce_loss\n",
    "\n",
    "    return tf.reduce_mean(focal_loss)"
   ]
  },
  {
   "cell_type": "code",
   "execution_count": null,
   "metadata": {
    "id": "evQJzQ28BEVi"
   },
   "outputs": [],
   "source": [
    "# Adam + learning_rate=1e-4, focal loss, accuracy\n",
    "model_3 = get_model()\n",
    "optimizer = tf.keras.optimizers.Adam(learning_rate=1e-4)\n",
    "model_3.compile(optimizer=optimizer, loss='categorical_focal_crossentropy', metrics=['accuracy'])"
   ]
  },
  {
   "cell_type": "code",
   "execution_count": null,
   "metadata": {
    "colab": {
     "base_uri": "https://localhost:8080/"
    },
    "executionInfo": {
     "elapsed": 211689,
     "status": "ok",
     "timestamp": 1696519025605,
     "user": {
      "displayName": "Anh Nguyễn Tuấn",
      "userId": "07053102722635507370"
     },
     "user_tz": -420
    },
    "id": "ovOcvS-5DIDN",
    "outputId": "118852ae-21e0-4a26-8b4d-0e5d57ab663e"
   },
   "outputs": [
    {
     "name": "stdout",
     "output_type": "stream",
     "text": [
      "Epoch 1/10\n",
      "163/163 [==============================] - 32s 98ms/step - loss: 1.0248 - accuracy: 0.1241 - val_loss: 1.0912 - val_accuracy: 0.1020\n",
      "Epoch 2/10\n",
      "163/163 [==============================] - 15s 91ms/step - loss: 0.9542 - accuracy: 0.1650 - val_loss: 1.0505 - val_accuracy: 0.1020\n",
      "Epoch 3/10\n",
      "163/163 [==============================] - 15s 91ms/step - loss: 0.9192 - accuracy: 0.1892 - val_loss: 1.0434 - val_accuracy: 0.0467\n",
      "Epoch 4/10\n",
      "163/163 [==============================] - 15s 90ms/step - loss: 0.8879 - accuracy: 0.2117 - val_loss: 1.0778 - val_accuracy: 0.0432\n",
      "Epoch 5/10\n",
      "163/163 [==============================] - 15s 92ms/step - loss: 0.8596 - accuracy: 0.2280 - val_loss: 0.9456 - val_accuracy: 0.1706\n",
      "Epoch 6/10\n",
      "163/163 [==============================] - 15s 91ms/step - loss: 0.8362 - accuracy: 0.2426 - val_loss: 0.8403 - val_accuracy: 0.2582\n",
      "Epoch 7/10\n",
      "163/163 [==============================] - 15s 90ms/step - loss: 0.8094 - accuracy: 0.2647 - val_loss: 0.8121 - val_accuracy: 0.2709\n",
      "Epoch 8/10\n",
      "163/163 [==============================] - 15s 91ms/step - loss: 0.7741 - accuracy: 0.2937 - val_loss: 0.7867 - val_accuracy: 0.3020\n",
      "Epoch 9/10\n",
      "163/163 [==============================] - 15s 91ms/step - loss: 0.7366 - accuracy: 0.3166 - val_loss: 0.7687 - val_accuracy: 0.3107\n",
      "Epoch 10/10\n",
      "163/163 [==============================] - 15s 91ms/step - loss: 0.7089 - accuracy: 0.3337 - val_loss: 0.7510 - val_accuracy: 0.3101\n"
     ]
    },
    {
     "data": {
      "text/plain": [
       "<keras.src.callbacks.History at 0x7f0bf8048040>"
      ]
     },
     "execution_count": 20,
     "metadata": {},
     "output_type": "execute_result"
    }
   ],
   "source": [
    "model_3.fit(x_train, y_train, epochs=10, validation_data=(x_val, y_val))"
   ]
  },
  {
   "cell_type": "code",
   "execution_count": null,
   "metadata": {
    "colab": {
     "base_uri": "https://localhost:8080/"
    },
    "executionInfo": {
     "elapsed": 2031,
     "status": "ok",
     "timestamp": 1696519036315,
     "user": {
      "displayName": "Anh Nguyễn Tuấn",
      "userId": "07053102722635507370"
     },
     "user_tz": -420
    },
    "id": "0JPPdTO5DYpU",
    "outputId": "df03bd35-2bbb-429f-cac0-721a51604fd4"
   },
   "outputs": [
    {
     "name": "stdout",
     "output_type": "stream",
     "text": [
      "55/55 [==============================] - 1s 22ms/step - loss: 0.7599 - accuracy: 0.3128\n"
     ]
    },
    {
     "data": {
      "text/plain": [
       "[0.7599191069602966, 0.3127880096435547]"
      ]
     },
     "execution_count": 21,
     "metadata": {},
     "output_type": "execute_result"
    }
   ],
   "source": [
    "model_3.evaluate(x_test, y_test)"
   ]
  },
  {
   "cell_type": "code",
   "execution_count": null,
   "metadata": {
    "id": "uHrNKa0KDh31"
   },
   "outputs": [],
   "source": [
    "# sgd + learning_rate=1e-4, focal loss, accuracy\n",
    "model_4 = get_model()\n",
    "optimizer = tf.keras.optimizers.SGD(learning_rate=1e-4)\n",
    "model_4.compile(optimizer=optimizer, loss='categorical_focal_crossentropy', metrics=['accuracy'])"
   ]
  },
  {
   "cell_type": "code",
   "execution_count": null,
   "metadata": {
    "colab": {
     "base_uri": "https://localhost:8080/"
    },
    "executionInfo": {
     "elapsed": 154212,
     "status": "ok",
     "timestamp": 1696519207188,
     "user": {
      "displayName": "Anh Nguyễn Tuấn",
      "userId": "07053102722635507370"
     },
     "user_tz": -420
    },
    "id": "1gtm82XMDvSw",
    "outputId": "4dd6940f-0f20-47ca-daf0-ad9a776f6b3e"
   },
   "outputs": [
    {
     "name": "stdout",
     "output_type": "stream",
     "text": [
      "Epoch 1/10\n",
      "163/163 [==============================] - 22s 97ms/step - loss: 1.1970 - accuracy: 0.0083 - val_loss: 1.1361 - val_accuracy: 0.0086\n",
      "Epoch 2/10\n",
      "163/163 [==============================] - 15s 89ms/step - loss: 1.1926 - accuracy: 0.0071 - val_loss: 1.1436 - val_accuracy: 0.0086\n",
      "Epoch 3/10\n",
      "163/163 [==============================] - 15s 90ms/step - loss: 1.1894 - accuracy: 0.0081 - val_loss: 1.1478 - val_accuracy: 0.0086\n",
      "Epoch 4/10\n",
      "163/163 [==============================] - 14s 89ms/step - loss: 1.1867 - accuracy: 0.0069 - val_loss: 1.1448 - val_accuracy: 0.0092\n",
      "Epoch 5/10\n",
      "163/163 [==============================] - 15s 89ms/step - loss: 1.1807 - accuracy: 0.0081 - val_loss: 1.1506 - val_accuracy: 0.0086\n",
      "Epoch 6/10\n",
      "163/163 [==============================] - 14s 88ms/step - loss: 1.1756 - accuracy: 0.0088 - val_loss: 1.1768 - val_accuracy: 0.0069\n",
      "Epoch 7/10\n",
      "163/163 [==============================] - 15s 89ms/step - loss: 1.1701 - accuracy: 0.0077 - val_loss: 1.1820 - val_accuracy: 0.0081\n",
      "Epoch 8/10\n",
      "163/163 [==============================] - 15s 90ms/step - loss: 1.1660 - accuracy: 0.0067 - val_loss: 1.1823 - val_accuracy: 0.0069\n",
      "Epoch 9/10\n",
      "163/163 [==============================] - 15s 90ms/step - loss: 1.1652 - accuracy: 0.0079 - val_loss: 1.1816 - val_accuracy: 0.0086\n",
      "Epoch 10/10\n",
      "163/163 [==============================] - 14s 89ms/step - loss: 1.1612 - accuracy: 0.0088 - val_loss: 1.1752 - val_accuracy: 0.0127\n"
     ]
    },
    {
     "data": {
      "text/plain": [
       "<keras.src.callbacks.History at 0x7f0bf17e4e80>"
      ]
     },
     "execution_count": 23,
     "metadata": {},
     "output_type": "execute_result"
    }
   ],
   "source": [
    "model_4.fit(x_train, y_train, epochs=10, validation_data=(x_val, y_val))"
   ]
  },
  {
   "cell_type": "code",
   "execution_count": null,
   "metadata": {
    "colab": {
     "base_uri": "https://localhost:8080/"
    },
    "executionInfo": {
     "elapsed": 1953,
     "status": "ok",
     "timestamp": 1696519217996,
     "user": {
      "displayName": "Anh Nguyễn Tuấn",
      "userId": "07053102722635507370"
     },
     "user_tz": -420
    },
    "id": "mzHObsCWDy99",
    "outputId": "392205d6-37b7-414e-b4b8-fcd48eabf053"
   },
   "outputs": [
    {
     "name": "stdout",
     "output_type": "stream",
     "text": [
      "55/55 [==============================] - 1s 22ms/step - loss: 1.1753 - accuracy: 0.0092\n"
     ]
    },
    {
     "data": {
      "text/plain": [
       "[1.1752779483795166, 0.009216589853167534]"
      ]
     },
     "execution_count": 24,
     "metadata": {},
     "output_type": "execute_result"
    }
   ],
   "source": [
    "model_4.evaluate(x_test, y_test)"
   ]
  },
  {
   "cell_type": "markdown",
   "metadata": {
    "id": "pagj0rlh-9_O"
   },
   "source": [
    "# Yêu cầu 2: Thay 3 layers tích chập 3x3, 3x3 và 1x1 bằng 1 layer có kích thước nhân tích chập là 7x7\n",
    "* Hãy xác định kết quả trên tập test trong trường hợp: learning_rate = 0.0001, epoch=10, Optimizer = Adam, Weighted-class Cross Entropy Loss"
   ]
  },
  {
   "cell_type": "code",
   "execution_count": null,
   "metadata": {
    "id": "0QzQJrC96kyN"
   },
   "outputs": [],
   "source": [
    "def get_af_model():\n",
    "    input = Input(shape = (224, 224, 3))\n",
    "    x = Conv2D(filters=32, kernel_size=7, strides=2, padding='same', use_bias=False)(input)\n",
    "    x = BatchNormalization()(x)\n",
    "    x = ReLU()(x)\n",
    "\n",
    "    x = mobilnet_block(x, filters = 128, strides = 2)\n",
    "    x = mobilnet_block(x, filters = 128, strides = 1)\n",
    "    x = mobilnet_block(x, filters = 256, strides = 2)\n",
    "    x = mobilnet_block(x, filters = 256, strides = 1)\n",
    "    x = mobilnet_block(x, filters = 512, strides = 2)\n",
    "    for _ in range (5):\n",
    "        x = mobilnet_block(x, filters = 512, strides = 2)\n",
    "    x = mobilnet_block(x, filters = 1024, strides = 2)\n",
    "    x = mobilnet_block(x, filters = 1024, strides = 1)\n",
    "    x = AvgPool2D (pool_size = 7, strides = 1, data_format='channels_first', padding='same')(x)\n",
    "    x = Flatten()(x)\n",
    "    output = Dense (units = 101, activation = 'softmax')(x)\n",
    "    model = Model(inputs=input, outputs=output)\n",
    "\n",
    "    return model"
   ]
  },
  {
   "cell_type": "code",
   "execution_count": null,
   "metadata": {
    "id": "PTC5NOGAExJ0"
   },
   "outputs": [],
   "source": [
    "cnt_class = np.sum(y_train, axis=0)\n",
    "num_class = y_train.shape[1]\n",
    "\n",
    "class_weights = [0 for _ in range(101)]\n",
    "total_samples = len(y_train)\n",
    "for i in range(num_class):\n",
    "    class_weights[i] = total_samples / (num_class * cnt_class[i])"
   ]
  },
  {
   "cell_type": "code",
   "execution_count": null,
   "metadata": {
    "id": "OjXEAviKFDPa"
   },
   "outputs": [],
   "source": [
    "model = get_af_model()\n",
    "optimizer = tf.keras.optimizers.Adam(learning_rate=1e-4)\n",
    "model.compile(optimizer=optimizer, loss='categorical_crossentropy', metrics=['accuracy'])"
   ]
  },
  {
   "cell_type": "code",
   "execution_count": null,
   "metadata": {
    "id": "plE5ekCnE8-F"
   },
   "outputs": [],
   "source": [
    "model.compile(optimizer=optimizer, loss='categorical_crossentropy', metrics=['accuracy'], loss_weights=class_weights)"
   ]
  },
  {
   "cell_type": "code",
   "execution_count": null,
   "metadata": {
    "colab": {
     "base_uri": "https://localhost:8080/"
    },
    "executionInfo": {
     "elapsed": 133708,
     "status": "ok",
     "timestamp": 1696519476111,
     "user": {
      "displayName": "Anh Nguyễn Tuấn",
      "userId": "07053102722635507370"
     },
     "user_tz": -420
    },
    "id": "LdfeJHayFUtq",
    "outputId": "146c8f6a-6a7c-4e0b-b427-cf3cafa8db9e"
   },
   "outputs": [
    {
     "name": "stdout",
     "output_type": "stream",
     "text": [
      "Epoch 1/10\n",
      "163/163 [==============================] - 27s 76ms/step - loss: 0.8096 - accuracy: 0.1204 - val_loss: 0.8492 - val_accuracy: 0.0438\n",
      "Epoch 2/10\n",
      "163/163 [==============================] - 11s 70ms/step - loss: 0.7500 - accuracy: 0.1662 - val_loss: 0.8304 - val_accuracy: 0.0438\n",
      "Epoch 3/10\n",
      "163/163 [==============================] - 11s 70ms/step - loss: 0.7147 - accuracy: 0.1996 - val_loss: 0.8298 - val_accuracy: 0.0467\n",
      "Epoch 4/10\n",
      "163/163 [==============================] - 12s 72ms/step - loss: 0.6866 - accuracy: 0.2290 - val_loss: 0.8520 - val_accuracy: 0.0432\n",
      "Epoch 5/10\n",
      "163/163 [==============================] - 12s 71ms/step - loss: 0.6656 - accuracy: 0.2505 - val_loss: 0.7683 - val_accuracy: 0.1573\n",
      "Epoch 6/10\n",
      "163/163 [==============================] - 12s 72ms/step - loss: 0.6418 - accuracy: 0.2724 - val_loss: 0.6642 - val_accuracy: 0.2720\n",
      "Epoch 7/10\n",
      "163/163 [==============================] - 11s 70ms/step - loss: 0.6194 - accuracy: 0.2993 - val_loss: 0.6201 - val_accuracy: 0.3020\n",
      "Epoch 8/10\n",
      "163/163 [==============================] - 11s 70ms/step - loss: 0.5954 - accuracy: 0.3148 - val_loss: 0.6132 - val_accuracy: 0.3101\n",
      "Epoch 9/10\n",
      "163/163 [==============================] - 12s 71ms/step - loss: 0.5716 - accuracy: 0.3354 - val_loss: 0.5907 - val_accuracy: 0.3239\n",
      "Epoch 10/10\n",
      "163/163 [==============================] - 12s 71ms/step - loss: 0.5538 - accuracy: 0.3563 - val_loss: 0.5743 - val_accuracy: 0.3435\n"
     ]
    },
    {
     "data": {
      "text/plain": [
       "<keras.src.callbacks.History at 0x7f0b9a3b8430>"
      ]
     },
     "execution_count": 29,
     "metadata": {},
     "output_type": "execute_result"
    }
   ],
   "source": [
    "model.fit(x_train, y_train, epochs=10, validation_data=(x_val, y_val))"
   ]
  },
  {
   "cell_type": "code",
   "execution_count": null,
   "metadata": {
    "colab": {
     "base_uri": "https://localhost:8080/"
    },
    "executionInfo": {
     "elapsed": 1953,
     "status": "ok",
     "timestamp": 1696519483616,
     "user": {
      "displayName": "Anh Nguyễn Tuấn",
      "userId": "07053102722635507370"
     },
     "user_tz": -420
    },
    "id": "6jem9c2wFWnH",
    "outputId": "9f1c72d1-8d8a-4a15-f291-fefc967e1588"
   },
   "outputs": [
    {
     "name": "stdout",
     "output_type": "stream",
     "text": [
      "55/55 [==============================] - 1s 20ms/step - loss: 0.5847 - accuracy: 0.3439\n"
     ]
    },
    {
     "data": {
      "text/plain": [
       "[0.5847193598747253, 0.34389400482177734]"
      ]
     },
     "execution_count": 30,
     "metadata": {},
     "output_type": "execute_result"
    }
   ],
   "source": [
    "model.evaluate(x_test, y_test)"
   ]
  }
 ],
 "metadata": {
  "accelerator": "GPU",
  "colab": {
   "gpuType": "T4",
   "provenance": []
  },
  "kernelspec": {
   "display_name": "Python 3 (ipykernel)",
   "language": "python",
   "name": "python3"
  },
  "language_info": {
   "codemirror_mode": {
    "name": "ipython",
    "version": 3
   },
   "file_extension": ".py",
   "mimetype": "text/x-python",
   "name": "python",
   "nbconvert_exporter": "python",
   "pygments_lexer": "ipython3",
   "version": "3.10.9"
  }
 },
 "nbformat": 4,
 "nbformat_minor": 1
}
